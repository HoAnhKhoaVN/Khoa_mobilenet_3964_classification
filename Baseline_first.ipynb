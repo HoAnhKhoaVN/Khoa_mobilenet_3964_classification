{
  "nbformat": 4,
  "nbformat_minor": 0,
  "metadata": {
    "colab": {
      "provenance": [],
      "gpuType": "T4"
    },
    "kernelspec": {
      "name": "python3",
      "display_name": "Python 3"
    },
    "language_info": {
      "name": "python"
    },
    "accelerator": "GPU"
  },
  "cells": [
    {
      "cell_type": "markdown",
      "source": [
        "<center><h1>TRAIN BASELINE (MOBILENET)</h1></center>"
      ],
      "metadata": {
        "id": "WRbKydgc05Bc"
      }
    },
    {
      "cell_type": "markdown",
      "source": [
        "# Mount drive"
      ],
      "metadata": {
        "id": "Trvgc2mxm6kt"
      }
    },
    {
      "cell_type": "code",
      "execution_count": 1,
      "metadata": {
        "id": "0zumotG6msS3",
        "colab": {
          "base_uri": "https://localhost:8080/"
        },
        "outputId": "de47853d-d5c7-4583-9851-e67a7109f56b"
      },
      "outputs": [
        {
          "output_type": "stream",
          "name": "stdout",
          "text": [
            "Mounted at /content/drive\n"
          ]
        }
      ],
      "source": [
        "from google.colab import drive\n",
        "drive.mount('/content/drive')"
      ]
    },
    {
      "cell_type": "markdown",
      "source": [
        "# Library"
      ],
      "metadata": {
        "id": "vYudLpBgzfRj"
      }
    },
    {
      "cell_type": "code",
      "source": [
        "import os\n",
        "from tqdm.notebook import tqdm"
      ],
      "metadata": {
        "id": "frTyP_Nnzhhl"
      },
      "execution_count": 2,
      "outputs": []
    },
    {
      "cell_type": "markdown",
      "source": [
        "# Dataset"
      ],
      "metadata": {
        "id": "_IyiFDBRah-o"
      }
    },
    {
      "cell_type": "code",
      "source": [
        "!echo \"Download dataset\"\n",
        "!gdown 1RZvPJdAVJWscYLNcTiX9yQhRfzYQw8nY\n",
        "\n",
        "!echo \"Unzip dataset\"\n",
        "!unzip -q /content/dataset_han_nom_real_synth.zip # Time: ~1:40s"
      ],
      "metadata": {
        "id": "PC1n0zRxnwtI",
        "colab": {
          "base_uri": "https://localhost:8080/"
        },
        "outputId": "028caa0c-ec17-463c-85a2-28527b6884d4"
      },
      "execution_count": 3,
      "outputs": [
        {
          "output_type": "stream",
          "name": "stdout",
          "text": [
            "Download dataset\n",
            "Downloading...\n",
            "From: https://drive.google.com/uc?id=1RZvPJdAVJWscYLNcTiX9yQhRfzYQw8nY\n",
            "To: /content/dataset_han_nom_real_synth.zip\n",
            "100% 2.31G/2.31G [00:34<00:00, 67.5MB/s]\n",
            "Unzip dataset\n"
          ]
        }
      ]
    },
    {
      "cell_type": "markdown",
      "source": [
        "# Clone code"
      ],
      "metadata": {
        "id": "JhRb8qJdLADJ"
      }
    },
    {
      "cell_type": "code",
      "source": [
        "# Run to reload github\n",
        "%cd /content\n",
        "!rm -r /content/Khoa_mobilenet_3964_classification"
      ],
      "metadata": {
        "colab": {
          "base_uri": "https://localhost:8080/"
        },
        "id": "XbRV4h8sNi2t",
        "outputId": "beda7692-7e80-40f0-b4de-95fcb1cd2164"
      },
      "execution_count": 17,
      "outputs": [
        {
          "output_type": "stream",
          "name": "stdout",
          "text": [
            "/content\n"
          ]
        }
      ]
    },
    {
      "cell_type": "code",
      "source": [
        "!git clone https://github.com/HoAnhKhoaVN/Khoa_mobilenet_3964_classification.git\n",
        "%cd Khoa_mobilenet_3964_classification\n",
        "# !pip install -r requirements.txt"
      ],
      "metadata": {
        "id": "IDc6wmzBLFxv",
        "colab": {
          "base_uri": "https://localhost:8080/"
        },
        "outputId": "5a5f9522-7e88-4608-fd50-0ca7d68ebada"
      },
      "execution_count": 18,
      "outputs": [
        {
          "output_type": "stream",
          "name": "stdout",
          "text": [
            "Cloning into 'Khoa_mobilenet_3964_classification'...\n",
            "remote: Enumerating objects: 27, done.\u001b[K\n",
            "remote: Counting objects: 100% (27/27), done.\u001b[K\n",
            "remote: Compressing objects: 100% (18/18), done.\u001b[K\n",
            "remote: Total 27 (delta 11), reused 24 (delta 8), pack-reused 0\u001b[K\n",
            "Receiving objects: 100% (27/27), 6.35 KiB | 6.35 MiB/s, done.\n",
            "Resolving deltas: 100% (11/11), done.\n",
            "/content/Khoa_mobilenet_3964_classification\n"
          ]
        }
      ]
    },
    {
      "cell_type": "markdown",
      "source": [
        "# Train\n",
        "Sửa code trong `run.sh` để chạy\n"
      ],
      "metadata": {
        "id": "wkFM8rHQMQOH"
      }
    },
    {
      "cell_type": "code",
      "source": [
        "!sh run.sh"
      ],
      "metadata": {
        "id": "2hAmekjJMSEA",
        "colab": {
          "base_uri": "https://localhost:8080/"
        },
        "outputId": "a2af0d9f-52df-44b3-e0c9-89c746cb6b02"
      },
      "execution_count": null,
      "outputs": [
        {
          "output_type": "stream",
          "name": "stdout",
          "text": [
            "2023-08-17 13:34:19.262966: I tensorflow/core/platform/cpu_feature_guard.cc:182] This TensorFlow binary is optimized to use available CPU instructions in performance-critical operations.\n",
            "To enable the following instructions: AVX2 AVX512F FMA, in other operations, rebuild TensorFlow with the appropriate compiler flags.\n",
            "2023-08-17 13:34:20.540833: W tensorflow/compiler/tf2tensorrt/utils/py_utils.cc:38] TF-TRT Warning: Could not find TensorRT\n",
            "args: Namespace(dataset_root='/content/dataset_han_nom_real_synth', save_model_path='/content/drive/MyDrive/Master/NLP/Experiment/Baseline', epochs=100, startIter=0, maxIter=100000, valIter=100, learning_rate=2.0, rho=0.9, eps=1e-05, seed=2103, batch_size=8192, test=True, train=True)\n",
            "100% 3964/3964 [00:00<00:00, 4576.70it/s]\n",
            "Detele folder train: 0it [00:00, ?it/s]\n",
            "Detele folder test: 0it [00:00, ?it/s]\n",
            "Detele folder val: 0it [00:00, ?it/s]\n",
            "Handle empty valid: 100% 3964/3964 [00:00<00:00, 46247.92it/s]\n",
            "Trainable params num :  7301756\n",
            "Epoch progress::   0% 0/100 [00:00<?, ?it/s]"
          ]
        }
      ]
    },
    {
      "cell_type": "markdown",
      "source": [
        "# Show tensorboard"
      ],
      "metadata": {
        "id": "eVWSQwhnm-LN"
      }
    },
    {
      "cell_type": "code",
      "source": [
        "# Import tensorboard\n",
        "from torch.utils.tensorboard import SummaryWriter\n",
        "%load_ext tensorboard\n",
        "%tensorboard --logdir=/content/drive/MyDrive/Master/NLP/ProtoNet_run_on_colab/5w5s"
      ],
      "metadata": {
        "id": "EOgxuPTzmIZt"
      },
      "execution_count": null,
      "outputs": []
    },
    {
      "cell_type": "markdown",
      "source": [
        "<center><h1>THE END</h1></center>"
      ],
      "metadata": {
        "id": "BSrd_tv00BRJ"
      }
    }
  ]
}